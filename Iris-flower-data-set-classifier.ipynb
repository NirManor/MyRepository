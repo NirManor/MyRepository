{
 "cells": [
  {
   "cell_type": "raw",
   "id": "d87dfc02",
   "metadata": {},
   "source": [
    "                                  ~~~~~~~~~~~Nir Manor ID: 305229627*~~~~~~~~~~\n",
    "                                  \n",
    "First block is for loadin the Iris flower data set and relevant modules                               "
   ]
  },
  {
   "cell_type": "code",
   "execution_count": 93,
   "id": "3d8a49a4",
   "metadata": {},
   "outputs": [],
   "source": [
    "# import load_iris function from datasets module\n",
    "from sklearn.datasets import load_iris\n",
    "from sklearn.metrics import accuracy_score,classification_report,confusion_matrix\n",
    "from sklearn.model_selection import train_test_split\n",
    "from sklearn.neighbors import KNeighborsClassifier\n",
    "from sklearn.linear_model import LogisticRegression\n",
    "#Yellowbrick: Machine Learning Visualization\n",
    "from yellowbrick.classifier import ClassificationReport\n",
    "import matplotlib.pyplot as plt\n",
    "\n",
    "\n",
    "# save \"bunch\" object containing iris dataset and its attributes\n",
    "iris = load_iris()\n",
    "\n",
    "# store feature matrix in \"X\"\n",
    "X = iris.data\n",
    "\n",
    "# store response vector in \"y\"\n",
    "y = iris.target"
   ]
  },
  {
   "cell_type": "code",
   "execution_count": 52,
   "id": "3f3e83ee",
   "metadata": {},
   "outputs": [
    {
     "name": "stdout",
     "output_type": "stream",
     "text": [
      "(150, 4)\n",
      "(150,)\n"
     ]
    }
   ],
   "source": [
    "# print the shapes of X and y\n",
    "print(X.shape)\n",
    "print(y.shape)\n"
   ]
  },
  {
   "cell_type": "code",
   "execution_count": 78,
   "id": "2d2f9d5b",
   "metadata": {},
   "outputs": [
    {
     "name": "stdout",
     "output_type": "stream",
     "text": [
      "LogisticRegression accuracy score :  0.9666666666666667\n",
      "[[25  0  0]\n",
      " [ 0 16  1]\n",
      " [ 0  1 17]]\n",
      "              precision    recall  f1-score   support\n",
      "\n",
      "           0       1.00      1.00      1.00        25\n",
      "           1       0.94      0.94      0.94        17\n",
      "           2       0.94      0.94      0.94        18\n",
      "\n",
      "    accuracy                           0.97        60\n",
      "   macro avg       0.96      0.96      0.96        60\n",
      "weighted avg       0.97      0.97      0.97        60\n",
      "\n"
     ]
    }
   ],
   "source": [
    "\n",
    "#                                  ~~~~~~~~~~~*Logistic regression Classifier*~~~~~~~~~~\n",
    "\n",
    "X_train, X_test, y_train, y_test = train_test_split(X, y, test_size=0.4, random_state=4)\n",
    "logreg = LogisticRegression()\n",
    "logreg.fit(X_train, y_train)\n",
    "pred_logreg = logreg.predict(X_test)\n",
    "# compare actual response values (y_test) with predicted response values (y_pred)\n",
    "print(\"LogisticRegression accuracy score : \",accuracy_score(y_test, pred_logreg))\n",
    "print(confusion_matrix(y_test, pred_logreg))\n",
    "print(classification_report(y_test, pred_logreg))\n"
   ]
  },
  {
   "cell_type": "code",
   "execution_count": 92,
   "id": "b0a58340",
   "metadata": {},
   "outputs": [
    {
     "data": {
      "image/png": "[encoded data removed]",
      "text/plain": [
       "<Figure size 432x288 with 2 Axes>"
      ]
     },
     "metadata": {
      "needs_background": "light"
     },
     "output_type": "display_data"
    }
   ],
   "source": [
    "#                                  ~~~~~~~~~~~*Logistic regression visual plot*~~~~~~~~~~\n",
    "visualizer = ClassificationReport(logreg, classes=['setosa', ' versicolor','virginica'])\n",
    "visualizer.fit(X_train, y_train)  # Fit the training data to the visualizer\n",
    "visualizer.score(X_test, y_test)  # Evaluate the model on the test data\n",
    "g_logreg = visualizer.show()"
   ]
  },
  {
   "cell_type": "code",
   "execution_count": 91,
   "id": "89d37e89",
   "metadata": {
    "scrolled": true
   },
   "outputs": [
    {
     "name": "stdout",
     "output_type": "stream",
     "text": [
      "The optimum K for this data set is k = 19\n"
     ]
    },
    {
     "data": {
      "image/png": "[encoded data removed]",
      "text/plain": [
       "<Figure size 432x288 with 1 Axes>"
      ]
     },
     "metadata": {
      "needs_background": "light"
     },
     "output_type": "display_data"
    }
   ],
   "source": [
    "#                                  ~~~~~~~~~~~*K-Neighbors Classifier*~~~~~~~~~~\n",
    "\n",
    "X_train, X_test, y_train, y_test = train_test_split(X, y, test_size=0.4, random_state=4)\n",
    "\n",
    "#try K=1 through K=25 and record testing accuracy\n",
    "k_optimum=1\n",
    "previous_accuracy=0\n",
    "k_range = list(range(1, 26))\n",
    "scores = []\n",
    "for k in k_range:\n",
    "    knn = KNeighborsClassifier(n_neighbors=k)\n",
    "    knn.fit(X_train, y_train)\n",
    "    y_pred = knn.predict(X_test)\n",
    "    scores.append(metrics.accuracy_score(y_test, y_pred))\n",
    "    \n",
    "    if metrics.accuracy_score(y_test, y_pred)>previous_accuracy:\n",
    "        k_optimum=k\n",
    "    \n",
    "    previous_accuracy=metrics.accuracy_score(y_test, y_pred)\n",
    "        \n",
    "# allow plots to appear within the notebook\n",
    "%matplotlib inline\n",
    "\n",
    "# plot the relationship between K and testing accuracy\n",
    "plt.plot(k_range, scores)\n",
    "plt.xlabel('Value of K for KNN')\n",
    "plt.ylabel('Testing Accuracy')   \n",
    "print(\"The optimum K for this data set is k =\",k_optimum)"
   ]
  },
  {
   "cell_type": "code",
   "execution_count": 88,
   "id": "1d6ea0d5",
   "metadata": {},
   "outputs": [
    {
     "name": "stdout",
     "output_type": "stream",
     "text": [
      "19\n",
      "KNeighbors accuracy score :  0.9833333333333333\n",
      "[[25  0  0]\n",
      " [ 0 16  1]\n",
      " [ 0  0 18]]\n",
      "              precision    recall  f1-score   support\n",
      "\n",
      "           0       1.00      1.00      1.00        25\n",
      "           1       1.00      0.94      0.97        17\n",
      "           2       0.95      1.00      0.97        18\n",
      "\n",
      "    accuracy                           0.98        60\n",
      "   macro avg       0.98      0.98      0.98        60\n",
      "weighted avg       0.98      0.98      0.98        60\n",
      "\n"
     ]
    }
   ],
   "source": [
    "# evaluate the best KNN option accuracy\n",
    "X_train, X_test, y_train, y_test = train_test_split(X, y, test_size=0.4, random_state=4)\n",
    "print (k_optimum)\n",
    "knn = KNeighborsClassifier(n_neighbors=k_optimum)\n",
    "knn.fit(X_train, y_train)\n",
    "y_pred = knn.predict(X_test)\n",
    "print(\"KNeighbors accuracy score : \", accuracy_score(y_test, y_pred))\n",
    "print(confusion_matrix(y_test, y_pred))\n",
    "print(classification_report(y_test, y_pred))"
   ]
  },
  {
   "cell_type": "code",
   "execution_count": 89,
   "id": "2c1fc32f",
   "metadata": {},
   "outputs": [
    {
     "data": {
      "image/png": "[encoded data removed]",
      "text/plain": [
       "<Figure size 432x288 with 2 Axes>"
      ]
     },
     "metadata": {
      "needs_background": "light"
     },
     "output_type": "display_data"
    }
   ],
   "source": [
    "#                                  ~~~~~~~~~~~*K-Neighbors Classifier visual plot*~~~~~~~~~~\n",
    "# Instantiate the classification model and visualizer\n",
    "visualizer = ClassificationReport(knn, classes=['setosa', ' versicolor','virginica'])\n",
    "visualizer.fit(X_train, y_train)  # Fit the training data to the visualizer\n",
    "visualizer.score(X_test, y_test)  # Evaluate the model on the test data\n",
    "g_KNN = visualizer.poof()  # Draw/show/poof the data"
   ]
  },
  {
   "attachments": {},
   "cell_type": "markdown",
   "id": "90865b5f",
   "metadata": {},
   "source": [
    "This data set is arranged in a table and allows easy access to the information stored in it.\n",
    "Through Machine learning library SKlearn, it is relatively easy to analyze the information and predict results at a fairly accurate level.\n",
    "In this project I focused on two types of machine learning, from the SKlearn library:\n",
    "1) Logistic Regression \n",
    "2) K Neighbors classifier-KNN\n",
    "\n",
    "I choosed to Splite the dataset into two pieces: a training set-60 % and a testing set-40 %.\n",
    "The random state was set to a fixed value - 4, in order to get a fixed result for the same parameters each time I run the program.\n",
    "\n",
    "Logistic Regression:\n",
    "accuracy score :  96.67%\n",
    "\n",
    "K Neighbors classifier:\n",
    "For KNN algorithm, I test the prediction accuracy for diffrent value K - neighbors, in order to find the optimum K value.\n",
    "After tuning the K value I got quite accurate prediction accuracy of 98.3%.\n",
    "\n",
    "For both algorithm the prediction for the Setosa Iris flower was 100% accurate \n"
   ]
  },
  {
   "cell_type": "raw",
   "id": "86c59883",
   "metadata": {},
   "source": []
  },
  {
   "cell_type": "code",
   "execution_count": null,
   "id": "820dfa97",
   "metadata": {},
   "outputs": [],
   "source": []
  }
 ],
 "metadata": {
  "kernelspec": {
   "display_name": "Python 3 (ipykernel)",
   "language": "python",
   "name": "python3"
  },
  "language_info": {
   "codemirror_mode": {
    "name": "ipython",
    "version": 3
   },
   "file_extension": ".py",
   "mimetype": "text/x-python",
   "name": "python",
   "nbconvert_exporter": "python",
   "pygments_lexer": "ipython3",
   "version": "3.9.7"
  }
 },
 "nbformat": 4,
 "nbformat_minor": 5
}
